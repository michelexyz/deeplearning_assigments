{
 "cells": [
  {
   "cell_type": "code",
   "execution_count": null,
   "metadata": {},
   "outputs": [],
   "source": [
    "# Assigment 1 forwad pass and backpropagation without using any library\n",
    "\n",
    "x = [1,-1]\n",
    "t = [1,0]\n",
    "\n",
    "w = [[1,1,1][-1,-1,-1]]\n",
    "b = [0,0,0]\n",
    "\n",
    "v = [[1,1][-1,-1][-1,-1]]\n",
    "c = [0,0]\n",
    "\n",
    "\n",
    "# forward pass\n",
    "\n",
    "print(f\"x: {x}\")\n",
    "\n",
    "# first layer\n",
    "print(f\"W: {w}\")\n",
    "\n",
    "k = [sum([x[i]*w[i][j] for i in range(len(x))]) + b[j] for j in range(len(b))]\n",
    "\n",
    "print(f\"k: {k}\")\n",
    "\n",
    "# sigmoid layer\n",
    "z = [1/(1+math.exp(-k[i])) for i in range(len(k))]\n",
    "\n",
    "print(f\"z: {z}\")\n",
    "\n",
    "# second layer\n",
    "print(f\"V: {v}\")\n",
    "\n",
    "o = [sum([z[i]*v[i][j] for i in range(len(z))]) + c[j] for j in range(len(c))]\n",
    "\n",
    "print(f\"o: {o}\")\n",
    "\n",
    "# softmax layer\n",
    "y = [math.exp(o[i])/sum([math.exp(o[j]) for j in range(len(o))]) for i in range(len(o))]\n",
    "\n",
    "print(f\"y: {y}\")\n",
    "\n",
    "# cross entropy loss\n",
    "loss = -sum([t[i]*math.log(y[i]) for i in range(len(t))])\n",
    "\n",
    "print(f\"loss: {loss}\")\n"
   ]
  }
 ],
 "metadata": {
  "language_info": {
   "name": "python"
  }
 },
 "nbformat": 4,
 "nbformat_minor": 2
}
