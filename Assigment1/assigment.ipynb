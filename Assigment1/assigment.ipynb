{
 "cells": [
  {
   "cell_type": "code",
   "execution_count": 3,
   "metadata": {},
   "outputs": [
    {
     "name": "stdout",
     "output_type": "stream",
     "text": [
      "x: [1, -1]\n",
      "W: [[1, 1, 1], [-1, -1, -1]]\n",
      "k: [2, 2, 2]\n",
      "z: [0.8807970779778823, 0.8807970779778823, 0.8807970779778823]\n",
      "V: [[1, 1], [-1, -1], [-1, -1]]\n",
      "o: [-0.8807970779778823, -0.8807970779778823]\n",
      "y: [0.5, 0.5]\n",
      "loss: 0.6931471805599453\n"
     ]
    }
   ],
   "source": [
    "import math\n",
    "\n",
    "# Assigment 1 forwad pass and backpropagation without using any library\n",
    "\n",
    "x = [1,-1]\n",
    "t = [1,0]\n",
    "\n",
    "w = [[1,1,1],[-1,-1,-1]]\n",
    "b = [0,0,0]\n",
    "\n",
    "v = [[1,1],[-1,-1],[-1,-1]]\n",
    "c = [0,0]\n",
    "\n",
    "\n",
    "# forward pass\n",
    "\n",
    "print(f\"x: {x}\")\n",
    "\n",
    "# first layer\n",
    "print(f\"W: {w}\")\n",
    "\n",
    "k = [sum([x[i]*w[i][j] for i in range(len(x))]) + b[j] for j in range(len(b))]\n",
    "\n",
    "print(f\"k: {k}\")\n",
    "\n",
    "# sigmoid layer\n",
    "z = [1/(1+math.exp(-k[i])) for i in range(len(k))]\n",
    "\n",
    "print(f\"z: {z}\")\n",
    "\n",
    "# second layer\n",
    "print(f\"V: {v}\")\n",
    "\n",
    "o = [sum([z[i]*v[i][j] for i in range(len(z))]) + c[j] for j in range(len(c))]\n",
    "\n",
    "print(f\"o: {o}\")\n",
    "\n",
    "# softmax layer\n",
    "y = [math.exp(o[i])/sum([math.exp(o[j]) for j in range(len(o))]) for i in range(len(o))]\n",
    "\n",
    "print(f\"y: {y}\")\n",
    "\n",
    "# cross entropy loss\n",
    "loss = -sum([t[i]*math.log(y[i]) for i in range(len(t))])\n",
    "\n",
    "print(f\"loss: {loss}\")\n"
   ]
  },
  {
   "cell_type": "code",
   "execution_count": 4,
   "metadata": {},
   "outputs": [
    {
     "name": "stdout",
     "output_type": "stream",
     "text": [
      "dy: [-2.0, -0.0]\n",
      "do: [-0.5, 0.5]\n",
      "dv: [[-0.44039853898894116, 0.44039853898894116], [-0.44039853898894116, 0.44039853898894116], [-0.44039853898894116, 0.44039853898894116]]\n",
      "dz: [0.0, 0.0, 0.0]\n",
      "dk: [0.0, 0.0, 0.0]\n",
      "dw: [[0.0, 0.0, 0.0], [-0.0, -0.0, -0.0]]\n"
     ]
    }
   ],
   "source": [
    "# backward pass\n",
    "# derivative of loss function with respect to yi\n",
    "dy = [(-1/y[i])*t[i] for i in range(len(y))]\n",
    "\n",
    "print(f\"dy: {dy}\")\n",
    "\n",
    "# derivative of loss function with respect to oi\n",
    "do = [sum([dy[j] * (y[j]*(1-y[j]) if j==i else -y[j]*y[i]) for j in range(len(dy))]) for i in range(len(o))]\n",
    "\n",
    "print(f\"do: {do}\")\n",
    "\n",
    "# derivative of loss function with respect to v and c\n",
    "dv = [[do[j]*z[i] for j in range(len(do))] for i in range(len(z))]\n",
    "\n",
    "print(f\"dv: {dv}\")\n",
    "\n",
    "# derivative of loss function with respect to zi\n",
    "dz = [sum([do[j]*v[i][j] for j in range(len(do))]) for i in range(len(v))]\n",
    "\n",
    "print(f\"dz: {dz}\")\n",
    "\n",
    "# derivative of loss function with respect to ki\n",
    "dk = [dz[i]*z[i]*(1-z[i]) for i in range(len(z))]\n",
    "\n",
    "print(f\"dk: {dk}\")\n",
    "\n",
    "# derivative of loss function with respect to w and b\n",
    "dw = [[dk[j]*x[i] for j in range(len(dk))] for i in range(len(x))]\n",
    "\n",
    "print(f\"dw: {dw}\")"
   ]
  }
 ],
 "metadata": {
  "kernelspec": {
   "display_name": "Python 3",
   "language": "python",
   "name": "python3"
  },
  "language_info": {
   "codemirror_mode": {
    "name": "ipython",
    "version": 3
   },
   "file_extension": ".py",
   "mimetype": "text/x-python",
   "name": "python",
   "nbconvert_exporter": "python",
   "pygments_lexer": "ipython3",
   "version": "3.10.8"
  }
 },
 "nbformat": 4,
 "nbformat_minor": 2
}
